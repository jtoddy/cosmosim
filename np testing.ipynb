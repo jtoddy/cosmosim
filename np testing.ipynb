{
 "cells": [
  {
   "cell_type": "code",
   "execution_count": 7,
   "id": "5280c94d",
   "metadata": {},
   "outputs": [],
   "source": [
    "def outer_sum(a,b):\n",
    "    return a[:, None] + b[None, :]\n",
    "def less_equal(a, b):\n",
    "    return (a[:, None] <= b[None, :])\n",
    "def less(a, b):\n",
    "    return (a[:, None] < b[None, :])\n",
    "def equal(a, b):\n",
    "    return (a[:, None] == b[None, :])"
   ]
  },
  {
   "cell_type": "code",
   "execution_count": 71,
   "id": "902d65f8",
   "metadata": {},
   "outputs": [],
   "source": [
    "import numpy as np\n",
    "masses = np.array([\n",
    "    1,\n",
    "    2,\n",
    "    3,\n",
    "    1,\n",
    "    2,\n",
    "]).astype(float)"
   ]
  },
  {
   "cell_type": "code",
   "execution_count": 72,
   "id": "647184b5",
   "metadata": {},
   "outputs": [],
   "source": [
    "collision_matrix = np.array([\n",
    "    [1,1,0,0,0],\n",
    "    [1,1,1,0,0],\n",
    "    [0,1,1,1,0],\n",
    "    [0,0,1,1,1],\n",
    "    [0,0,0,1,1],\n",
    "]).astype(bool)\n",
    "np.fill_diagonal(collision_matrix,False)"
   ]
  },
  {
   "cell_type": "code",
   "execution_count": null,
   "id": "030f78c6",
   "metadata": {},
   "outputs": [],
   "source": [
    "'''\n",
    "5 objects collide at the same time\n",
    "\n",
    "obj#:  1    2    3    4    5\n",
    "mass: (1)->(2)->(3)<-(1)->(2) \n",
    "           (3)->(4)       (2)\n",
    "2 absorbs 1\n",
    "3 absorbs 4\n",
    "\n",
    "'''"
   ]
  },
  {
   "cell_type": "code",
   "execution_count": 73,
   "id": "a941cb65",
   "metadata": {},
   "outputs": [
    {
     "data": {
      "text/plain": [
       "array([1., 2., 3., 1., 2.])"
      ]
     },
     "execution_count": 73,
     "metadata": {},
     "output_type": "execute_result"
    }
   ],
   "source": [
    "masses"
   ]
  },
  {
   "cell_type": "code",
   "execution_count": 74,
   "id": "5fab7b02",
   "metadata": {
    "scrolled": true
   },
   "outputs": [],
   "source": [
    "m_less = less(masses, masses)\n",
    "m_equal= np.tril(equal(masses, masses),-1)"
   ]
  },
  {
   "cell_type": "code",
   "execution_count": 75,
   "id": "d03217e7",
   "metadata": {
    "scrolled": true
   },
   "outputs": [
    {
     "data": {
      "text/plain": [
       "array([[False,  True, False, False, False],\n",
       "       [False, False,  True, False, False],\n",
       "       [False, False, False, False, False],\n",
       "       [False, False,  True, False,  True],\n",
       "       [False, False, False, False, False]])"
      ]
     },
     "execution_count": 75,
     "metadata": {},
     "output_type": "execute_result"
    }
   ],
   "source": [
    "absorbed_matrix = (m_less+m_equal)*collision_matrix\n",
    "absorbed_matrix"
   ]
  },
  {
   "cell_type": "code",
   "execution_count": 81,
   "id": "f5622cfd",
   "metadata": {
    "scrolled": true
   },
   "outputs": [
    {
     "data": {
      "text/plain": [
       "array([[False,  True, False, False, False],\n",
       "       [False, False,  True, False, False],\n",
       "       [False, False, False, False, False],\n",
       "       [False, False,  True, False, False],\n",
       "       [False, False, False, False, False]])"
      ]
     },
     "execution_count": 81,
     "metadata": {},
     "output_type": "execute_result"
    }
   ],
   "source": [
    "absorbed_matrix_mod = absorbed_matrix.cumsum(axis=1).cumsum(axis=1) == 1 #Only get absorbed by first object\n",
    "absorbed_matrix_mod"
   ]
  },
  {
   "cell_type": "code",
   "execution_count": 76,
   "id": "31b9c67b",
   "metadata": {},
   "outputs": [
    {
     "data": {
      "text/plain": [
       "array([[False, False, False, False, False],\n",
       "       [ True, False, False, False, False],\n",
       "       [False,  True, False,  True, False],\n",
       "       [False, False, False, False, False],\n",
       "       [False, False, False,  True, False]])"
      ]
     },
     "execution_count": 76,
     "metadata": {},
     "output_type": "execute_result"
    }
   ],
   "source": [
    "absorbing_matrix = ~(m_less+m_equal)*collision_matrix\n",
    "absorbing_matrix"
   ]
  },
  {
   "cell_type": "code",
   "execution_count": 84,
   "id": "e69e9652",
   "metadata": {},
   "outputs": [
    {
     "data": {
      "text/plain": [
       "array([[False,  True, False, False, False],\n",
       "       [False, False,  True, False, False],\n",
       "       [False, False, False, False, False],\n",
       "       [False, False,  True, False, False],\n",
       "       [False, False, False, False, False]])"
      ]
     },
     "execution_count": 84,
     "metadata": {},
     "output_type": "execute_result"
    }
   ],
   "source": [
    "absorbed_matrix_mod * absorbing_matrix.T"
   ]
  },
  {
   "cell_type": "code",
   "execution_count": 77,
   "id": "8cca8476",
   "metadata": {},
   "outputs": [
    {
     "data": {
      "text/plain": [
       "array([ True,  True, False,  True, False])"
      ]
     },
     "execution_count": 77,
     "metadata": {},
     "output_type": "execute_result"
    }
   ],
   "source": [
    "absorbed = np.max(absorbed_matrix, axis=1)#.nonzero()[0].tolist()\n",
    "absorbed"
   ]
  },
  {
   "cell_type": "code",
   "execution_count": 78,
   "id": "f814d0ab",
   "metadata": {},
   "outputs": [
    {
     "data": {
      "text/plain": [
       "array([[0., 0., 0., 0., 0.],\n",
       "       [1., 0., 0., 0., 0.],\n",
       "       [0., 2., 0., 1., 0.],\n",
       "       [0., 0., 0., 0., 0.],\n",
       "       [0., 0., 0., 1., 0.]])"
      ]
     },
     "execution_count": 78,
     "metadata": {},
     "output_type": "execute_result"
    }
   ],
   "source": [
    "absorbed_mass_matrix = masses*absorbed_matrix.T\n",
    "absorbed_mass_matrix"
   ]
  },
  {
   "cell_type": "code",
   "execution_count": null,
   "id": "c121d5ac",
   "metadata": {},
   "outputs": [],
   "source": []
  }
 ],
 "metadata": {
  "kernelspec": {
   "display_name": "Python 3 (ipykernel)",
   "language": "python",
   "name": "python3"
  },
  "language_info": {
   "codemirror_mode": {
    "name": "ipython",
    "version": 3
   },
   "file_extension": ".py",
   "mimetype": "text/x-python",
   "name": "python",
   "nbconvert_exporter": "python",
   "pygments_lexer": "ipython3",
   "version": "3.8.13"
  }
 },
 "nbformat": 4,
 "nbformat_minor": 5
}
