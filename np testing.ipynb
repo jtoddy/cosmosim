{
 "cells": [
  {
   "cell_type": "code",
   "execution_count": 71,
   "id": "902d65f8",
   "metadata": {},
   "outputs": [],
   "source": [
    "import numpy as np\n",
    "\n",
    "positions = np.array([\n",
    "    [0,0,0],\n",
    "    [1,0,0],\n",
    "    [-1,0,0],\n",
    "    [0,1,0],\n",
    "    [0,-1,0]\n",
    "])\n",
    "\n",
    "densities = np.array([\n",
    "    3,\n",
    "    4,\n",
    "    5,\n",
    "    6,\n",
    "    7\n",
    "])\n",
    "\n",
    "masses = np.array([\n",
    "    5,\n",
    "    2,\n",
    "    1,\n",
    "    2,\n",
    "    1,\n",
    "])"
   ]
  },
  {
   "cell_type": "code",
   "execution_count": 13,
   "id": "b007e570",
   "metadata": {},
   "outputs": [],
   "source": [
    "moments = masses[:,None] * positions"
   ]
  },
  {
   "cell_type": "code",
   "execution_count": 34,
   "id": "43044afd",
   "metadata": {},
   "outputs": [
    {
     "data": {
      "text/plain": [
       "(5, 3)"
      ]
     },
     "execution_count": 34,
     "metadata": {},
     "output_type": "execute_result"
    }
   ],
   "source": [
    "moments.shape"
   ]
  },
  {
   "cell_type": "code",
   "execution_count": 56,
   "id": "716e7596",
   "metadata": {
    "scrolled": true
   },
   "outputs": [
    {
     "data": {
      "text/plain": [
       "array([[ 0,  0,  0],\n",
       "       [ 2,  0,  0],\n",
       "       [-1,  0,  0],\n",
       "       [ 0,  2,  0],\n",
       "       [ 0, -1,  0]])"
      ]
     },
     "execution_count": 56,
     "metadata": {},
     "output_type": "execute_result"
    }
   ],
   "source": [
    "moments"
   ]
  },
  {
   "cell_type": "code",
   "execution_count": 65,
   "id": "980d7695",
   "metadata": {},
   "outputs": [],
   "source": [
    "m_totals = np.add.outer(masses, masses)"
   ]
  },
  {
   "cell_type": "code",
   "execution_count": 103,
   "id": "f6c5660b",
   "metadata": {},
   "outputs": [
    {
     "data": {
      "text/plain": [
       "array([[ True,  True,  True,  True,  True],\n",
       "       [False,  True,  True,  True,  True],\n",
       "       [False, False,  True, False,  True],\n",
       "       [False,  True,  True,  True,  True],\n",
       "       [False, False,  True, False,  True]])"
      ]
     },
     "execution_count": 103,
     "metadata": {},
     "output_type": "execute_result"
    }
   ],
   "source": [
    "m_greater = np.greater_equal.outer(masses, masses)\n",
    "m_greater"
   ]
  },
  {
   "cell_type": "code",
   "execution_count": 77,
   "id": "8bf88bcb",
   "metadata": {},
   "outputs": [
    {
     "data": {
      "text/plain": [
       "array([[[ 0.        ,  0.        ,  0.        ],\n",
       "        [ 0.28571429,  0.        ,  0.        ],\n",
       "        [-0.16666667,  0.        ,  0.        ],\n",
       "        [ 0.        ,  0.28571429,  0.        ],\n",
       "        [ 0.        , -0.16666667,  0.        ]],\n",
       "\n",
       "       [[ 0.28571429,  0.        ,  0.        ],\n",
       "        [ 1.        ,  0.        ,  0.        ],\n",
       "        [ 0.33333333,  0.        ,  0.        ],\n",
       "        [ 0.5       ,  0.5       ,  0.        ],\n",
       "        [ 0.66666667, -0.33333333,  0.        ]],\n",
       "\n",
       "       [[-0.16666667,  0.        ,  0.        ],\n",
       "        [ 0.33333333,  0.        ,  0.        ],\n",
       "        [-1.        ,  0.        ,  0.        ],\n",
       "        [-0.33333333,  0.66666667,  0.        ],\n",
       "        [-0.5       , -0.5       ,  0.        ]],\n",
       "\n",
       "       [[ 0.        ,  0.28571429,  0.        ],\n",
       "        [ 0.5       ,  0.5       ,  0.        ],\n",
       "        [-0.33333333,  0.66666667,  0.        ],\n",
       "        [ 0.        ,  1.        ,  0.        ],\n",
       "        [ 0.        ,  0.33333333,  0.        ]],\n",
       "\n",
       "       [[ 0.        , -0.16666667,  0.        ],\n",
       "        [ 0.66666667, -0.33333333,  0.        ],\n",
       "        [-0.5       , -0.5       ,  0.        ],\n",
       "        [ 0.        ,  0.33333333,  0.        ],\n",
       "        [ 0.        , -1.        ,  0.        ]]])"
      ]
     },
     "execution_count": 77,
     "metadata": {},
     "output_type": "execute_result"
    }
   ],
   "source": [
    "coms = (moments + moments[:, None, :])/m_totals[None,:].T\n",
    "coms"
   ]
  },
  {
   "cell_type": "code",
   "execution_count": 99,
   "id": "647184b5",
   "metadata": {},
   "outputs": [
    {
     "data": {
      "text/plain": [
       "array([[0, 0, 0, 0, 0],\n",
       "       [0, 0, 0, 0, 0],\n",
       "       [0, 0, 0, 1, 0],\n",
       "       [0, 0, 1, 0, 0],\n",
       "       [0, 0, 0, 0, 0]])"
      ]
     },
     "execution_count": 99,
     "metadata": {},
     "output_type": "execute_result"
    }
   ],
   "source": [
    "collision_matrix = np.array([\n",
    "    [1,0,0,0,0],\n",
    "    [0,1,0,0,0],\n",
    "    [0,0,1,1,0],\n",
    "    [0,0,1,1,0],\n",
    "    [0,0,0,0,1],\n",
    "])\n",
    "np.fill_diagonal(collision_matrix,0)\n",
    "collision_matrix"
   ]
  },
  {
   "cell_type": "code",
   "execution_count": 100,
   "id": "76afae7b",
   "metadata": {},
   "outputs": [],
   "source": [
    "coms_masked = collision_matrix.reshape(5,5,1)*coms"
   ]
  },
  {
   "cell_type": "code",
   "execution_count": 101,
   "id": "96250f4f",
   "metadata": {},
   "outputs": [
    {
     "data": {
      "text/plain": [
       "array([[[ 0.        ,  0.        ,  0.        ],\n",
       "        [ 0.        ,  0.        ,  0.        ],\n",
       "        [-0.        ,  0.        ,  0.        ],\n",
       "        [ 0.        ,  0.        ,  0.        ],\n",
       "        [ 0.        , -0.        ,  0.        ]],\n",
       "\n",
       "       [[ 0.        ,  0.        ,  0.        ],\n",
       "        [ 0.        ,  0.        ,  0.        ],\n",
       "        [ 0.        ,  0.        ,  0.        ],\n",
       "        [ 0.        ,  0.        ,  0.        ],\n",
       "        [ 0.        , -0.        ,  0.        ]],\n",
       "\n",
       "       [[-0.        ,  0.        ,  0.        ],\n",
       "        [ 0.        ,  0.        ,  0.        ],\n",
       "        [-0.        ,  0.        ,  0.        ],\n",
       "        [-0.33333333,  0.66666667,  0.        ],\n",
       "        [-0.        , -0.        ,  0.        ]],\n",
       "\n",
       "       [[ 0.        ,  0.        ,  0.        ],\n",
       "        [ 0.        ,  0.        ,  0.        ],\n",
       "        [-0.33333333,  0.66666667,  0.        ],\n",
       "        [ 0.        ,  0.        ,  0.        ],\n",
       "        [ 0.        ,  0.        ,  0.        ]],\n",
       "\n",
       "       [[ 0.        , -0.        ,  0.        ],\n",
       "        [ 0.        , -0.        ,  0.        ],\n",
       "        [-0.        , -0.        ,  0.        ],\n",
       "        [ 0.        ,  0.        ,  0.        ],\n",
       "        [ 0.        , -0.        ,  0.        ]]])"
      ]
     },
     "execution_count": 101,
     "metadata": {},
     "output_type": "execute_result"
    }
   ],
   "source": [
    "coms_masked"
   ]
  },
  {
   "cell_type": "code",
   "execution_count": 104,
   "id": "28620a43",
   "metadata": {},
   "outputs": [
    {
     "name": "stdout",
     "output_type": "stream",
     "text": [
      "0\n",
      "0\n",
      "0\n",
      "0\n",
      "0\n",
      "0\n",
      "0\n",
      "0\n",
      "0\n",
      "0\n",
      "0\n",
      "0\n",
      "0\n",
      "1\n",
      "0\n",
      "0\n",
      "0\n",
      "1\n",
      "0\n",
      "0\n",
      "0\n",
      "0\n",
      "0\n",
      "0\n",
      "0\n"
     ]
    }
   ],
   "source": []
  },
  {
   "cell_type": "code",
   "execution_count": null,
   "id": "90cd988a",
   "metadata": {},
   "outputs": [],
   "source": []
  }
 ],
 "metadata": {
  "kernelspec": {
   "display_name": "Python 3 (ipykernel)",
   "language": "python",
   "name": "python3"
  },
  "language_info": {
   "codemirror_mode": {
    "name": "ipython",
    "version": 3
   },
   "file_extension": ".py",
   "mimetype": "text/x-python",
   "name": "python",
   "nbconvert_exporter": "python",
   "pygments_lexer": "ipython3",
   "version": "3.8.13"
  }
 },
 "nbformat": 4,
 "nbformat_minor": 5
}
