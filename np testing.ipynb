{
 "cells": [
  {
   "cell_type": "code",
   "execution_count": 1,
   "id": "5280c94d",
   "metadata": {},
   "outputs": [],
   "source": [
    "def outer_sum(a,b):\n",
    "    return a[:, None] + b[None, :]\n",
    "def less_equal(a, b):\n",
    "    return (a[:, None] <= b[None, :])\n",
    "def less(a, b):\n",
    "    return (a[:, None] < b[None, :])\n",
    "def equal(a, b):\n",
    "    return (a[:, None] == b[None, :])"
   ]
  },
  {
   "cell_type": "code",
   "execution_count": 2,
   "id": "902d65f8",
   "metadata": {},
   "outputs": [],
   "source": [
    "import numpy as np\n",
    "masses = np.array([\n",
    "    1,\n",
    "    2,\n",
    "    3,\n",
    "    1,\n",
    "    2,\n",
    "]).astype(float)"
   ]
  },
  {
   "cell_type": "code",
   "execution_count": 3,
   "id": "647184b5",
   "metadata": {},
   "outputs": [],
   "source": [
    "collision_matrix = np.array([\n",
    "    [1,1,0,0,0],\n",
    "    [1,1,1,0,0],\n",
    "    [0,1,1,1,0],\n",
    "    [0,0,1,1,1],\n",
    "    [0,0,0,1,1],\n",
    "]).astype(bool)\n",
    "np.fill_diagonal(collision_matrix,False)"
   ]
  },
  {
   "cell_type": "code",
   "execution_count": 4,
   "id": "030f78c6",
   "metadata": {},
   "outputs": [
    {
     "data": {
      "text/plain": [
       "'\\n5 objects collide at the same time\\n\\nobj#:  1    2    3    4    5\\nmass: (1)->(2)->(3)<-(1)->(2) \\n           (3)->(4)       (2)\\n2 absorbs 1\\n3 absorbs 4\\n\\n'"
      ]
     },
     "execution_count": 4,
     "metadata": {},
     "output_type": "execute_result"
    }
   ],
   "source": [
    "'''\n",
    "5 objects collide at the same time\n",
    "\n",
    "obj#:  1    2    3    4    5\n",
    "mass: (1)->(2)->(3)<-(1)->(2) \n",
    "           (3)->(4)       (2)\n",
    "2 absorbs 1\n",
    "3 absorbs 4\n",
    "\n",
    "'''"
   ]
  },
  {
   "cell_type": "code",
   "execution_count": 20,
   "id": "3352c134",
   "metadata": {},
   "outputs": [],
   "source": [
    "positions = np.array([\n",
    "    [0,0,0],\n",
    "    [1,0,0],\n",
    "    [2,0,0],\n",
    "    [3,0,0],\n",
    "    [4,0,0],\n",
    "])"
   ]
  },
  {
   "cell_type": "code",
   "execution_count": 5,
   "id": "a941cb65",
   "metadata": {},
   "outputs": [
    {
     "data": {
      "text/plain": [
       "array([1., 2., 3., 1., 2.])"
      ]
     },
     "execution_count": 5,
     "metadata": {},
     "output_type": "execute_result"
    }
   ],
   "source": [
    "masses"
   ]
  },
  {
   "cell_type": "code",
   "execution_count": 10,
   "id": "5fab7b02",
   "metadata": {
    "scrolled": true
   },
   "outputs": [],
   "source": [
    "m_less = less(masses, masses)\n",
    "m_equal= np.tril(equal(masses, masses),-1)"
   ]
  },
  {
   "cell_type": "code",
   "execution_count": 11,
   "id": "c121d5ac",
   "metadata": {},
   "outputs": [
    {
     "data": {
      "text/plain": [
       "array([[0, 1, 0, 0, 0],\n",
       "       [0, 0, 1, 0, 0],\n",
       "       [0, 0, 0, 0, 0],\n",
       "       [0, 0, 1, 0, 1],\n",
       "       [0, 0, 0, 0, 0]])"
      ]
     },
     "execution_count": 11,
     "metadata": {},
     "output_type": "execute_result"
    }
   ],
   "source": [
    "# Absorbtion matrix\n",
    "absorbed_matrix = (m_less+m_equal)*collision_matrix\n",
    "absorbed_matrix.astype(int)"
   ]
  },
  {
   "cell_type": "code",
   "execution_count": 12,
   "id": "e674518e",
   "metadata": {},
   "outputs": [
    {
     "data": {
      "text/plain": [
       "array([[0, 1, 0, 0, 0],\n",
       "       [0, 0, 1, 0, 0],\n",
       "       [0, 0, 0, 0, 0],\n",
       "       [0, 0, 1, 0, 0],\n",
       "       [0, 0, 0, 0, 0]])"
      ]
     },
     "execution_count": 12,
     "metadata": {},
     "output_type": "execute_result"
    }
   ],
   "source": [
    "# Each object can only be absorbed once; choose the first absorber\n",
    "absorbed_matrix_mod = absorbed_matrix.cumsum(axis=1).cumsum(axis=1) == 1\n",
    "absorbed_matrix_mod.astype(int)"
   ]
  },
  {
   "cell_type": "code",
   "execution_count": 13,
   "id": "23d03213",
   "metadata": {},
   "outputs": [
    {
     "data": {
      "text/plain": [
       "array([0, 1, 1, 0, 0])"
      ]
     },
     "execution_count": 13,
     "metadata": {},
     "output_type": "execute_result"
    }
   ],
   "source": [
    "# All objects absorbing\n",
    "absorbing = np.max(absorbed_matrix_mod, axis=0)\n",
    "absorbing.astype(int)"
   ]
  },
  {
   "cell_type": "code",
   "execution_count": 14,
   "id": "d2b78b24",
   "metadata": {},
   "outputs": [],
   "source": [
    "# Can only be absorbed if you are not also absorbing\n",
    "absorbed_matrix_final = (absorbed_matrix_mod.T*(~absorbing)).T\n",
    "absorbed = np.max(absorbed_matrix_final, axis=1)"
   ]
  },
  {
   "cell_type": "code",
   "execution_count": 15,
   "id": "46deb17c",
   "metadata": {},
   "outputs": [
    {
     "data": {
      "text/plain": [
       "array([ True, False, False,  True, False])"
      ]
     },
     "execution_count": 15,
     "metadata": {},
     "output_type": "execute_result"
    }
   ],
   "source": [
    "absorbed"
   ]
  },
  {
   "cell_type": "code",
   "execution_count": 16,
   "id": "0749070d",
   "metadata": {},
   "outputs": [
    {
     "data": {
      "text/plain": [
       "array([False,  True,  True, False, False])"
      ]
     },
     "execution_count": 16,
     "metadata": {},
     "output_type": "execute_result"
    }
   ],
   "source": [
    "absorbing"
   ]
  },
  {
   "cell_type": "code",
   "execution_count": 25,
   "id": "949622a5",
   "metadata": {},
   "outputs": [
    {
     "data": {
      "text/plain": [
       "array([[2., 3., 4., 2., 3.],\n",
       "       [3., 4., 5., 3., 4.],\n",
       "       [4., 5., 6., 4., 5.],\n",
       "       [2., 3., 4., 2., 3.],\n",
       "       [3., 4., 5., 3., 4.]])"
      ]
     },
     "execution_count": 25,
     "metadata": {},
     "output_type": "execute_result"
    }
   ],
   "source": [
    "m_totals = outer_sum(masses, masses)\n",
    "m_totals"
   ]
  },
  {
   "cell_type": "code",
   "execution_count": 23,
   "id": "5e98bf5e",
   "metadata": {},
   "outputs": [
    {
     "data": {
      "text/plain": [
       "array([[0., 0., 0.],\n",
       "       [2., 0., 0.],\n",
       "       [6., 0., 0.],\n",
       "       [3., 0., 0.],\n",
       "       [8., 0., 0.]])"
      ]
     },
     "execution_count": 23,
     "metadata": {},
     "output_type": "execute_result"
    }
   ],
   "source": [
    "moments = masses[:,None] * positions\n",
    "moments"
   ]
  },
  {
   "cell_type": "code",
   "execution_count": 35,
   "id": "e4012efe",
   "metadata": {},
   "outputs": [
    {
     "data": {
      "text/plain": [
       "array([[[0.        , 0.        , 0.        ],\n",
       "        [0.66666667, 0.        , 0.        ],\n",
       "        [1.5       , 0.        , 0.        ],\n",
       "        [1.5       , 0.        , 0.        ],\n",
       "        [2.66666667, 0.        , 0.        ]],\n",
       "\n",
       "       [[0.66666667, 0.        , 0.        ],\n",
       "        [1.        , 0.        , 0.        ],\n",
       "        [1.6       , 0.        , 0.        ],\n",
       "        [1.66666667, 0.        , 0.        ],\n",
       "        [2.5       , 0.        , 0.        ]],\n",
       "\n",
       "       [[1.5       , 0.        , 0.        ],\n",
       "        [1.6       , 0.        , 0.        ],\n",
       "        [2.        , 0.        , 0.        ],\n",
       "        [2.25      , 0.        , 0.        ],\n",
       "        [2.8       , 0.        , 0.        ]],\n",
       "\n",
       "       [[1.5       , 0.        , 0.        ],\n",
       "        [1.66666667, 0.        , 0.        ],\n",
       "        [2.25      , 0.        , 0.        ],\n",
       "        [3.        , 0.        , 0.        ],\n",
       "        [3.66666667, 0.        , 0.        ]],\n",
       "\n",
       "       [[2.66666667, 0.        , 0.        ],\n",
       "        [2.5       , 0.        , 0.        ],\n",
       "        [2.8       , 0.        , 0.        ],\n",
       "        [3.66666667, 0.        , 0.        ],\n",
       "        [4.        , 0.        , 0.        ]]])"
      ]
     },
     "execution_count": 35,
     "metadata": {},
     "output_type": "execute_result"
    }
   ],
   "source": [
    "new_positions = outer_sum(moments, moments)/m_totals[None,:].T\n",
    "new_positions"
   ]
  },
  {
   "cell_type": "code",
   "execution_count": 43,
   "id": "73521381",
   "metadata": {},
   "outputs": [
    {
     "data": {
      "text/plain": [
       "array([[0, 1, 0, 0, 0],\n",
       "       [0, 0, 0, 0, 0],\n",
       "       [0, 0, 0, 0, 0],\n",
       "       [0, 0, 1, 0, 0],\n",
       "       [0, 0, 0, 0, 0]])"
      ]
     },
     "execution_count": 43,
     "metadata": {},
     "output_type": "execute_result"
    }
   ],
   "source": [
    "absorbed_matrix_final.astype(int)"
   ]
  },
  {
   "cell_type": "code",
   "execution_count": 63,
   "id": "2b1ac33c",
   "metadata": {},
   "outputs": [
    {
     "data": {
      "text/plain": [
       "array([[[0.        , 0.        , 0.        ],\n",
       "        [0.        , 0.        , 0.        ],\n",
       "        [0.        , 0.        , 0.        ],\n",
       "        [0.        , 0.        , 0.        ],\n",
       "        [0.        , 0.        , 0.        ]],\n",
       "\n",
       "       [[0.66666667, 0.        , 0.        ],\n",
       "        [0.        , 0.        , 0.        ],\n",
       "        [0.        , 0.        , 0.        ],\n",
       "        [0.        , 0.        , 0.        ],\n",
       "        [0.        , 0.        , 0.        ]],\n",
       "\n",
       "       [[0.        , 0.        , 0.        ],\n",
       "        [0.        , 0.        , 0.        ],\n",
       "        [0.        , 0.        , 0.        ],\n",
       "        [2.25      , 0.        , 0.        ],\n",
       "        [0.        , 0.        , 0.        ]],\n",
       "\n",
       "       [[0.        , 0.        , 0.        ],\n",
       "        [0.        , 0.        , 0.        ],\n",
       "        [0.        , 0.        , 0.        ],\n",
       "        [0.        , 0.        , 0.        ],\n",
       "        [0.        , 0.        , 0.        ]],\n",
       "\n",
       "       [[0.        , 0.        , 0.        ],\n",
       "        [0.        , 0.        , 0.        ],\n",
       "        [0.        , 0.        , 0.        ],\n",
       "        [0.        , 0.        , 0.        ],\n",
       "        [0.        , 0.        , 0.        ]]])"
      ]
     },
     "execution_count": 63,
     "metadata": {},
     "output_type": "execute_result"
    }
   ],
   "source": [
    "new_positions_abs = new_positions*(absorbed_matrix_final.T.reshape(5,5,1))\n",
    "new_positions_abs"
   ]
  },
  {
   "cell_type": "code",
   "execution_count": 121,
   "id": "5c7f6d6c",
   "metadata": {},
   "outputs": [
    {
     "data": {
      "text/plain": [
       "array([[[1],\n",
       "        [1],\n",
       "        [1],\n",
       "        [1],\n",
       "        [1]],\n",
       "\n",
       "       [[0],\n",
       "        [1],\n",
       "        [1],\n",
       "        [1],\n",
       "        [1]],\n",
       "\n",
       "       [[1],\n",
       "        [1],\n",
       "        [1],\n",
       "        [0],\n",
       "        [1]],\n",
       "\n",
       "       [[1],\n",
       "        [1],\n",
       "        [1],\n",
       "        [1],\n",
       "        [1]],\n",
       "\n",
       "       [[1],\n",
       "        [1],\n",
       "        [1],\n",
       "        [1],\n",
       "        [1]]])"
      ]
     },
     "execution_count": 121,
     "metadata": {},
     "output_type": "execute_result"
    }
   ],
   "source": [
    "mask = np.expand_dims(~absorbed_matrix_final.T, axis=2)\n",
    "mask.astype(int)"
   ]
  },
  {
   "cell_type": "code",
   "execution_count": 122,
   "id": "7e215ee0",
   "metadata": {
    "scrolled": true
   },
   "outputs": [
    {
     "data": {
      "text/plain": [
       "array([[[1, 1, 1],\n",
       "        [1, 1, 1],\n",
       "        [1, 1, 1],\n",
       "        [1, 1, 1],\n",
       "        [1, 1, 1]],\n",
       "\n",
       "       [[0, 0, 0],\n",
       "        [1, 1, 1],\n",
       "        [1, 1, 1],\n",
       "        [1, 1, 1],\n",
       "        [1, 1, 1]],\n",
       "\n",
       "       [[1, 1, 1],\n",
       "        [1, 1, 1],\n",
       "        [1, 1, 1],\n",
       "        [0, 0, 0],\n",
       "        [1, 1, 1]],\n",
       "\n",
       "       [[1, 1, 1],\n",
       "        [1, 1, 1],\n",
       "        [1, 1, 1],\n",
       "        [1, 1, 1],\n",
       "        [1, 1, 1]],\n",
       "\n",
       "       [[1, 1, 1],\n",
       "        [1, 1, 1],\n",
       "        [1, 1, 1],\n",
       "        [1, 1, 1],\n",
       "        [1, 1, 1]]])"
      ]
     },
     "execution_count": 122,
     "metadata": {},
     "output_type": "execute_result"
    }
   ],
   "source": [
    "mask_vec = np.repeat(mask, 3, axis=2)\n",
    "mask_vec.astype(int)"
   ]
  },
  {
   "cell_type": "code",
   "execution_count": 127,
   "id": "10398a06",
   "metadata": {
    "scrolled": true
   },
   "outputs": [
    {
     "name": "stderr",
     "output_type": "stream",
     "text": [
      "C:\\Users\\joeto\\AppData\\Local\\Temp\\ipykernel_2260\\7387813.py:2: RuntimeWarning: Mean of empty slice\n",
      "  new_positions_final = np.nanmean(new_positions, axis=1)\n"
     ]
    },
    {
     "data": {
      "text/plain": [
       "array([[       nan,        nan,        nan],\n",
       "       [0.66666667, 0.        , 0.        ],\n",
       "       [2.25      , 0.        , 0.        ],\n",
       "       [       nan,        nan,        nan],\n",
       "       [       nan,        nan,        nan]])"
      ]
     },
     "execution_count": 127,
     "metadata": {},
     "output_type": "execute_result"
    }
   ],
   "source": [
    "np.putmask(new_positions, mask_vec, None)\n",
    "new_positions_final = np.nanmean(new_positions, axis=1)\n",
    "new_positions_final"
   ]
  },
  {
   "cell_type": "code",
   "execution_count": 128,
   "id": "936dfa10",
   "metadata": {},
   "outputs": [
    {
     "data": {
      "text/plain": [
       "array([[0.        , 0.        , 0.        ],\n",
       "       [0.66666667, 0.        , 0.        ],\n",
       "       [2.25      , 0.        , 0.        ],\n",
       "       [3.        , 0.        , 0.        ],\n",
       "       [4.        , 0.        , 0.        ]])"
      ]
     },
     "execution_count": 128,
     "metadata": {},
     "output_type": "execute_result"
    }
   ],
   "source": [
    "pfinal = np.copy(positions).astype(float)\n",
    "pfinal[absorbing] = new_positions_final[absorbing]\n",
    "pfinal"
   ]
  },
  {
   "cell_type": "code",
   "execution_count": 133,
   "id": "f1d03c09",
   "metadata": {},
   "outputs": [
    {
     "data": {
      "text/plain": [
       "array([[2., 3., 4., 2., 3.],\n",
       "       [3., 4., 5., 3., 4.],\n",
       "       [4., 5., 6., 4., 5.],\n",
       "       [2., 3., 4., 2., 3.],\n",
       "       [3., 4., 5., 3., 4.]])"
      ]
     },
     "execution_count": 133,
     "metadata": {},
     "output_type": "execute_result"
    }
   ],
   "source": [
    "m_totals"
   ]
  },
  {
   "cell_type": "code",
   "execution_count": 134,
   "id": "20460801",
   "metadata": {},
   "outputs": [
    {
     "data": {
      "text/plain": [
       "array([[ True,  True,  True,  True,  True],\n",
       "       [False,  True,  True,  True,  True],\n",
       "       [ True,  True,  True, False,  True],\n",
       "       [ True,  True,  True,  True,  True],\n",
       "       [ True,  True,  True,  True,  True]])"
      ]
     },
     "execution_count": 134,
     "metadata": {},
     "output_type": "execute_result"
    }
   ],
   "source": [
    "~absorbed_matrix_final.T"
   ]
  },
  {
   "cell_type": "code",
   "execution_count": 136,
   "id": "b25d371f",
   "metadata": {},
   "outputs": [
    {
     "data": {
      "text/plain": [
       "array([[0., 0., 0., 0., 0.],\n",
       "       [1., 0., 0., 0., 0.],\n",
       "       [0., 0., 0., 1., 0.],\n",
       "       [0., 0., 0., 0., 0.],\n",
       "       [0., 0., 0., 0., 0.]])"
      ]
     },
     "execution_count": 136,
     "metadata": {},
     "output_type": "execute_result"
    }
   ],
   "source": [
    "masses*absorbed_matrix_final.T"
   ]
  },
  {
   "cell_type": "code",
   "execution_count": 137,
   "id": "c27e60df",
   "metadata": {},
   "outputs": [],
   "source": [
    "import random"
   ]
  },
  {
   "cell_type": "code",
   "execution_count": 139,
   "id": "f4482c96",
   "metadata": {},
   "outputs": [
    {
     "data": {
      "text/plain": [
       "'-964'"
      ]
     },
     "execution_count": 139,
     "metadata": {},
     "output_type": "execute_result"
    }
   ],
   "source": [
    "f\"-{random.randint(1,1000)}\""
   ]
  },
  {
   "cell_type": "code",
   "execution_count": 140,
   "id": "cfa02a16",
   "metadata": {},
   "outputs": [
    {
     "data": {
      "text/plain": [
       "array([False,  True,  True, False, False])"
      ]
     },
     "execution_count": 140,
     "metadata": {},
     "output_type": "execute_result"
    }
   ],
   "source": [
    "absorbing"
   ]
  },
  {
   "cell_type": "code",
   "execution_count": 142,
   "id": "d3c5ea29",
   "metadata": {},
   "outputs": [
    {
     "data": {
      "text/plain": [
       "array([False,  True,  True, False,  True])"
      ]
     },
     "execution_count": 142,
     "metadata": {},
     "output_type": "execute_result"
    }
   ],
   "source": [
    "~absorbed"
   ]
  },
  {
   "cell_type": "code",
   "execution_count": 144,
   "id": "1ce00b39",
   "metadata": {},
   "outputs": [
    {
     "data": {
      "text/plain": [
       "array([False,  True,  True, False, False])"
      ]
     },
     "execution_count": 144,
     "metadata": {},
     "output_type": "execute_result"
    }
   ],
   "source": [
    "absorbing & ~absorbed"
   ]
  },
  {
   "cell_type": "code",
   "execution_count": 145,
   "id": "9d6284ee",
   "metadata": {},
   "outputs": [
    {
     "data": {
      "text/plain": [
       "array([False,  True, False, False, False])"
      ]
     },
     "execution_count": 145,
     "metadata": {},
     "output_type": "execute_result"
    }
   ],
   "source": [
    "absorbing & np.array([False, True, False, False, True])"
   ]
  },
  {
   "cell_type": "code",
   "execution_count": 146,
   "id": "b831ddd1",
   "metadata": {},
   "outputs": [
    {
     "data": {
      "text/plain": [
       "array([[False,  True, False, False, False],\n",
       "       [False, False,  True, False, False],\n",
       "       [False, False, False, False, False],\n",
       "       [False, False,  True, False, False],\n",
       "       [False, False, False, False, False]])"
      ]
     },
     "execution_count": 146,
     "metadata": {},
     "output_type": "execute_result"
    }
   ],
   "source": [
    "absorbed_matrix_mod"
   ]
  },
  {
   "cell_type": "code",
   "execution_count": null,
   "id": "83e7c99e",
   "metadata": {},
   "outputs": [],
   "source": []
  }
 ],
 "metadata": {
  "kernelspec": {
   "display_name": "Python 3 (ipykernel)",
   "language": "python",
   "name": "python3"
  },
  "language_info": {
   "codemirror_mode": {
    "name": "ipython",
    "version": 3
   },
   "file_extension": ".py",
   "mimetype": "text/x-python",
   "name": "python",
   "nbconvert_exporter": "python",
   "pygments_lexer": "ipython3",
   "version": "3.8.13"
  }
 },
 "nbformat": 4,
 "nbformat_minor": 5
}
